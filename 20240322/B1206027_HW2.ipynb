{
  "nbformat": 4,
  "nbformat_minor": 0,
  "metadata": {
    "colab": {
      "provenance": []
    },
    "kernelspec": {
      "name": "python3",
      "display_name": "Python 3"
    },
    "language_info": {
      "name": "python"
    }
  },
  "cells": [
    {
      "cell_type": "code",
      "source": [
        "a='C,B,A'\n",
        "b=['F','G','H']\n",
        "\n",
        "a_list=a.split(',')\n",
        "a_list.extend(b)\n",
        "a_list[0]='K'\n",
        "\n",
        "d=a_list.pop(2)\n",
        "del a_list[1:4]\n",
        "a_list.append('U')\n",
        "\n",
        "print(a_list)"
      ],
      "metadata": {
        "colab": {
          "base_uri": "https://localhost:8080/"
        },
        "id": "Pi55F06w_cpL",
        "outputId": "e7f179c4-1456-47e1-d7f7-9dbdbf051602"
      },
      "execution_count": 62,
      "outputs": [
        {
          "output_type": "stream",
          "name": "stdout",
          "text": [
            "['K', 'H', 'U']\n"
          ]
        }
      ]
    },
    {
      "cell_type": "code",
      "execution_count": 4,
      "metadata": {
        "colab": {
          "base_uri": "https://localhost:8080/"
        },
        "id": "lAjHYIm1tqvA",
        "outputId": "332b1c56-e647-451c-e5ec-43a40730fd68"
      },
      "outputs": [
        {
          "output_type": "stream",
          "name": "stdout",
          "text": [
            "輸入一個八位數的數字01234567\n",
            "4\n"
          ]
        }
      ],
      "source": [
        "a=input(\"輸入一個八位數的數字\")\n",
        "print(a[4])"
      ]
    },
    {
      "cell_type": "code",
      "source": [
        "a=(\"My ID is B1206027\")\n",
        "c=a.split()\n",
        "print(len(c))\n",
        "b=list(a)\n",
        "\n",
        "print(len(b[9:17]))"
      ],
      "metadata": {
        "colab": {
          "base_uri": "https://localhost:8080/"
        },
        "id": "jELJv8oevEqv",
        "outputId": "4005f37a-932d-4520-e58c-b4b556d223a7"
      },
      "execution_count": 26,
      "outputs": [
        {
          "output_type": "stream",
          "name": "stdout",
          "text": [
            "4\n",
            "8\n"
          ]
        }
      ]
    },
    {
      "cell_type": "code",
      "source": [
        "a=\"I'm a student\"\n",
        "print(a[2:3])"
      ],
      "metadata": {
        "colab": {
          "base_uri": "https://localhost:8080/"
        },
        "id": "lIvhH7jsvoAo",
        "outputId": "891cff1c-e751-406b-a90a-0334241098bc"
      },
      "execution_count": 11,
      "outputs": [
        {
          "output_type": "stream",
          "name": "stdout",
          "text": [
            "m\n"
          ]
        }
      ]
    },
    {
      "cell_type": "code",
      "source": [
        "a='C,B,A'\n",
        "e=a.split(',')\n",
        "b=['F','G','H']\n",
        "c=list(e)\n",
        "d=c+b\n",
        "\n",
        "d[0]='K' //C換成K\n",
        "print(d[2]) //取出第3個元素\n",
        "d.remove('A','F','G') //刪掉2-4個元素\n",
        "\n",
        "\n",
        "\n",
        "//最後放U\n",
        "//輸出\n",
        "\n",
        "print(d)\n",
        "\n",
        "//d=[K,B,F,G,H] 目前的數列\n"
      ],
      "metadata": {
        "colab": {
          "base_uri": "https://localhost:8080/",
          "height": 106
        },
        "id": "KXnLmU8BvDFI",
        "outputId": "c1b22adf-316a-4b9c-9a24-9bbdcebb4f19"
      },
      "execution_count": 56,
      "outputs": [
        {
          "output_type": "error",
          "ename": "SyntaxError",
          "evalue": "invalid decimal literal (<ipython-input-56-035449bde2c0>, line 8)",
          "traceback": [
            "\u001b[0;36m  File \u001b[0;32m\"<ipython-input-56-035449bde2c0>\"\u001b[0;36m, line \u001b[0;32m8\u001b[0m\n\u001b[0;31m    print(d[2]) //取出第3個元素 d.remove('A','F','G') //刪掉2-4個元素\u001b[0m\n\u001b[0m                                                      ^\u001b[0m\n\u001b[0;31mSyntaxError\u001b[0m\u001b[0;31m:\u001b[0m invalid decimal literal\n"
          ]
        }
      ]
    }
  ]
}