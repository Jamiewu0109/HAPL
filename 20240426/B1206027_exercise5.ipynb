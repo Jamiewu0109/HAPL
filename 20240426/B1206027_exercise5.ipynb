{
  "nbformat": 4,
  "nbformat_minor": 0,
  "metadata": {
    "colab": {
      "provenance": []
    },
    "kernelspec": {
      "name": "python3",
      "display_name": "Python 3"
    },
    "language_info": {
      "name": "python"
    }
  },
  "cells": [
    {
      "cell_type": "code",
      "execution_count": 10,
      "metadata": {
        "id": "DhokjM_N4Qhp",
        "colab": {
          "base_uri": "https://localhost:8080/"
        },
        "outputId": "0760d220-6106-4222-bd88-84f803ec11a7"
      },
      "outputs": [
        {
          "output_type": "stream",
          "name": "stdout",
          "text": [
            "1x1=1\t2x1=2\t3x1=3\t4x1=4\t5x1=5\t6x1=6\t7x1=7\t8x1=8\t9x1=9\t\n",
            "1x2=2\t2x2=4\t3x2=6\t4x2=8\t5x2=10\t6x2=12\t7x2=14\t8x2=16\t9x2=18\t\n",
            "1x3=3\t2x3=6\t3x3=9\t4x3=12\t5x3=15\t6x3=18\t7x3=21\t8x3=24\t9x3=27\t\n",
            "1x4=4\t2x4=8\t3x4=12\t4x4=16\t5x4=20\t6x4=24\t7x4=28\t8x4=32\t9x4=36\t\n",
            "1x5=5\t2x5=10\t3x5=15\t4x5=20\t5x5=25\t6x5=30\t7x5=35\t8x5=40\t9x5=45\t\n",
            "1x6=6\t2x6=12\t3x6=18\t4x6=24\t5x6=30\t6x6=36\t7x6=42\t8x6=48\t9x6=54\t\n",
            "1x7=7\t2x7=14\t3x7=21\t4x7=28\t5x7=35\t6x7=42\t7x7=49\t8x7=56\t9x7=63\t\n",
            "1x8=8\t2x8=16\t3x8=24\t4x8=32\t5x8=40\t6x8=48\t7x8=56\t8x8=64\t9x8=72\t\n",
            "1x9=9\t2x9=18\t3x9=27\t4x9=36\t5x9=45\t6x9=54\t7x9=63\t8x9=72\t9x9=81\t\n"
          ]
        }
      ],
      "source": [
        "a=1\n",
        "while a<10:\n",
        "  b=1\n",
        "  while b<10:\n",
        "    print(f'{b}x{a}={a*b}',end='\\t')\n",
        "    b+=1\n",
        "  a+=1\n",
        "  print()"
      ]
    },
    {
      "cell_type": "code",
      "source": [
        "import random\n",
        "answer=random.sample(range(1,10),4)\n",
        "print(\"答案：\",answer)\n",
        "a=b=n=0\n",
        "num=0\n",
        "\n",
        "user=list(input(\"輸入四個數字(不會重複)：\"))\n",
        "if len(user)!=4:\n",
        "  (print(\"輸入數字過多，請輸入四個數字(不會重複)\"))\n",
        "a=0\n",
        "num=0\n",
        "while a!=4:\n",
        "  num+=1\n",
        "  a=b=n=0\n",
        "  user=list(input(\"輸入四個數字(不會重複)：\"))\n",
        "\n",
        "  for i in user:\n",
        "    if int(user[n])==answer[n]:\n",
        "      a+=1\n",
        "    else:\n",
        "      if int(i) in answer:\n",
        "        b+=1\n",
        "    n+=1\n",
        "  output=','.join(user).replace(',','')\n",
        "  print(f'{output}:{a}A{b}B')\n",
        "print(f'答對了!總共猜對{num}次')"
      ],
      "metadata": {
        "colab": {
          "base_uri": "https://localhost:8080/"
        },
        "id": "fe9whanjO1yl",
        "outputId": "2416c98c-213c-460a-b727-655b742dd76d"
      },
      "execution_count": 9,
      "outputs": [
        {
          "output_type": "stream",
          "name": "stdout",
          "text": [
            "答案： [6, 9, 4, 1]\n",
            "輸入四個數字(不會重複)：96522\n",
            "輸入數字過多，請輸入四個數字(不會重複)\n",
            "輸入四個數字(不會重複)：9652\n",
            "9652:0A2B\n",
            "輸入四個數字(不會重複)：6952\n",
            "6952:2A0B\n",
            "輸入四個數字(不會重複)：6915\n",
            "6915:2A1B\n",
            "輸入四個數字(不會重複)：6914\n",
            "6914:2A2B\n",
            "輸入四個數字(不會重複)：6941\n",
            "6941:4A0B\n",
            "答對了!總共猜對5次\n"
          ]
        }
      ]
    }
  ]
}