{
  "nbformat": 4,
  "nbformat_minor": 0,
  "metadata": {
    "colab": {
      "provenance": []
    },
    "kernelspec": {
      "name": "python3",
      "display_name": "Python 3"
    },
    "language_info": {
      "name": "python"
    }
  },
  "cells": [
    {
      "cell_type": "code",
      "execution_count": null,
      "metadata": {
        "colab": {
          "base_uri": "https://localhost:8080/"
        },
        "id": "xE7oGqnUwsKT",
        "outputId": "390b9e59-e2be-410e-9948-0fe7cd599911"
      },
      "outputs": [
        {
          "output_type": "stream",
          "name": "stdout",
          "text": [
            "輸入身高(cm)：160\n",
            "輸入體重(kg)：54\n",
            "BMI： 21.093749999999996\n",
            "體位：適中\n"
          ]
        }
      ],
      "source": [
        "a=float(input(\"輸入身高(cm)：\"))/100\n",
        "b=float(input(\"輸入體重(kg)：\"))\n",
        "b/=a*a\n",
        "print(\"BMI：\",b)\n",
        "\n",
        "if b<18.5:\n",
        "  print(\"體位：過輕\")\n",
        "elif b>=18.5 and b<24:\n",
        "  print(\"體位：適中\")\n",
        "elif b>=24 and b<27:\n",
        "  print(\"體位：過重\")\n",
        "else:\n",
        "  print(\"體位：肥胖\")"
      ]
    },
    {
      "cell_type": "code",
      "source": [
        "a=float(input(\"請輸入第一個數字：\"))\n",
        "b=input(\"請輸入運算符號：\")\n",
        "c=float(input(\"請輸入第二個數字：\"))\n",
        "\n",
        "if b==\"+\":\n",
        "  answer=a+c\n",
        "elif b==\"-\":\n",
        "  answer=a-c\n",
        "elif b==\"*\":\n",
        "  answer=a*c\n",
        "else:\n",
        "  answer=a/c\n",
        "\n",
        "print(answer)"
      ],
      "metadata": {
        "colab": {
          "base_uri": "https://localhost:8080/"
        },
        "id": "jHewgnyC1-7y",
        "outputId": "17bce3d2-de2f-4d3f-8db2-483ec7c1a684"
      },
      "execution_count": null,
      "outputs": [
        {
          "output_type": "stream",
          "name": "stdout",
          "text": [
            "請輸入第一個數字：2\n",
            "請輸入運算符號：+\n",
            "請輸入第二個數字：3\n",
            "5.0\n"
          ]
        }
      ]
    }
  ]
}