{
  "nbformat": 4,
  "nbformat_minor": 0,
  "metadata": {
    "colab": {
      "provenance": []
    },
    "kernelspec": {
      "name": "python3",
      "display_name": "Python 3"
    },
    "language_info": {
      "name": "python"
    }
  },
  "cells": [
    {
      "cell_type": "code",
      "execution_count": 32,
      "metadata": {
        "id": "qz7rnxDICTUb",
        "colab": {
          "base_uri": "https://localhost:8080/"
        },
        "outputId": "471efa62-51ba-4e26-d241-90e88dc8554a"
      },
      "outputs": [
        {
          "output_type": "stream",
          "name": "stdout",
          "text": [
            "輸入年分：2024\n",
            "閏年\n"
          ]
        }
      ],
      "source": [
        "a=int(input(\"輸入年分：\"))\n",
        "\n",
        "if a<1582:\n",
        "  if a%4==0:\n",
        "    print(\"閏年\")\n",
        "  else:\n",
        "    print(\"平年\")\n",
        "\n",
        "else:\n",
        "  if a%400==0:\n",
        "    print(\"閏年\")\n",
        "  elif a%4==0 and a%100!=0:\n",
        "    print(\"閏年\")\n",
        "  else:\n",
        "    print(\"平年\")\n"
      ]
    }
  ]
}