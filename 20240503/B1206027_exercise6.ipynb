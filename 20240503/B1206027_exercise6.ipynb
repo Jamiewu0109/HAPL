{
  "nbformat": 4,
  "nbformat_minor": 0,
  "metadata": {
    "colab": {
      "provenance": []
    },
    "kernelspec": {
      "name": "python3",
      "display_name": "Python 3"
    },
    "language_info": {
      "name": "python"
    }
  },
  "cells": [
    {
      "cell_type": "code",
      "execution_count": 35,
      "metadata": {
        "id": "pDQ0XsaH7Hnt",
        "colab": {
          "base_uri": "https://localhost:8080/"
        },
        "outputId": "a5eff7c6-1fd2-498a-b5dc-df10e3060bd8"
      },
      "outputs": [
        {
          "output_type": "stream",
          "name": "stdout",
          "text": [
            "請輸入聖誕樹高度：11\n",
            "          *\n",
            "         ***\n",
            "        *****\n",
            "       *******\n",
            "      *********\n",
            "     ***********\n",
            "    *************\n",
            "   ***************\n",
            "  *****************\n",
            " *******************\n",
            "*********************\n",
            "     ***          \n",
            "     ***          \n",
            "     ***          \n",
            "     ***          \n",
            "     ***          \n"
          ]
        }
      ],
      "source": [
        "def a(height):\n",
        "  t=\"\"\n",
        "\n",
        "  for i in range(1,height+1):\n",
        "    if i==1:\n",
        "      t+=\" \"*(height-1)+\"*\"+\"\\n\"\n",
        "    else:\n",
        "      t+=\" \"*(height-i)+\"*\"*(2*i-1)+\"\\n\"\n",
        "\n",
        "  n=5\n",
        "  b=3\n",
        "  c=height-b//2\n",
        "  for _ in range(n):\n",
        "    t+=\" \"*(n)+\"*\"*(b)+\" \"*(c)+\"\\n\"\n",
        "  return t\n",
        "\n",
        "n=int(input(\"請輸入聖誕樹高度：\"))\n",
        "m=a(n)\n",
        "print(m,end=\"\")"
      ]
    },
    {
      "cell_type": "code",
      "source": [
        "def calculate_bmi(x,y):\n",
        "  bmi=y/(x*x)\n",
        "  if bmi<18.5:\n",
        "    result=(\"體位:過輕\")\n",
        "  elif 18.5<=bmi and bmi<24:\n",
        "    result=(\"體位:適中\")\n",
        "  elif 24<=bmi and bmi<27:\n",
        "    result=(\"體位:過重\")\n",
        "  else:\n",
        "    result=(\"體位:肥胖\")\n",
        "  return bmi,result\n",
        "\n",
        "try:\n",
        "  x=float(input(\"請輸入身高(cm):\"))/100\n",
        "  y=float(input(\"請輸入體重(kg):\"))\n",
        "  bmi,result==calculate_bmi(x,y)\n",
        "  print(\"BMI=\",bmi)\n",
        "  print(result)\n",
        "except:\n",
        "  print(\"輸入內容錯誤\")"
      ],
      "metadata": {
        "colab": {
          "base_uri": "https://localhost:8080/"
        },
        "id": "AlAJIBr5v5BM",
        "outputId": "3cd46367-250a-49b7-8471-8d430fcfe37c"
      },
      "execution_count": 45,
      "outputs": [
        {
          "output_type": "stream",
          "name": "stdout",
          "text": [
            "請輸入身高(cm):178\n",
            "請輸入體重(kg):54\n",
            "輸入內容錯誤\n"
          ]
        }
      ]
    }
  ]
}