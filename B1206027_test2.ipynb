{
  "nbformat": 4,
  "nbformat_minor": 0,
  "metadata": {
    "colab": {
      "provenance": []
    },
    "kernelspec": {
      "name": "python3",
      "display_name": "Python 3"
    },
    "language_info": {
      "name": "python"
    }
  },
  "cells": [
    {
      "cell_type": "code",
      "execution_count": null,
      "metadata": {
        "colab": {
          "base_uri": "https://localhost:8080/"
        },
        "id": "jaTtTOofHSJF",
        "outputId": "eb4b26c9-30e3-4b55-e058-7f237adfea94"
      },
      "outputs": [
        {
          "output_type": "stream",
          "name": "stdout",
          "text": [
            "Answer: 495\n"
          ]
        }
      ],
      "source": [
        "x=2\n",
        "y=1\n",
        "\n",
        "a=2*x+y\n",
        "b=100-y\n",
        "c=a*b\n",
        "\n",
        "print(\"Answer:\",c)"
      ]
    },
    {
      "cell_type": "code",
      "source": [
        "y=4\n",
        "\n",
        "a=2*y+1\n",
        "b=100/a\n",
        "\n",
        "print(\"Answer:\",b)"
      ],
      "metadata": {
        "colab": {
          "base_uri": "https://localhost:8080/"
        },
        "id": "p5QF5ygZHwFJ",
        "outputId": "5cd8d05c-bfe5-4bd3-929b-c96dd7d25ffd"
      },
      "execution_count": null,
      "outputs": [
        {
          "output_type": "stream",
          "name": "stdout",
          "text": [
            "Answer: 11.11111111111111\n"
          ]
        }
      ]
    }
  ]
}