{
  "nbformat": 4,
  "nbformat_minor": 0,
  "metadata": {
    "colab": {
      "provenance": []
    },
    "kernelspec": {
      "name": "python3",
      "display_name": "Python 3"
    },
    "language_info": {
      "name": "python"
    }
  },
  "cells": [
    {
      "cell_type": "code",
      "execution_count": 18,
      "metadata": {
        "colab": {
          "base_uri": "https://localhost:8080/"
        },
        "id": "fxT8J-chxEJt",
        "outputId": "69afd8b8-d384-4720-d38c-005b0c964633"
      },
      "outputs": [
        {
          "output_type": "stream",
          "name": "stdout",
          "text": [
            "{'姓名': '賴宏瑋', '性別': '男', '作業分數': [100, 100, 90], '學號': 'M1129020'}\n",
            "96.66666666666667\n"
          ]
        }
      ],
      "source": [
        "import copy\n",
        "a={'姓名':'賴宏瑋','性別':'男','作業分數':[80,95,100,90]}\n",
        "b=a.setdefault('學號','M1129020')\n",
        "a['作業分數'][1]=100\n",
        "del a['作業分數'][0]\n",
        "\n",
        "a['作業分數']\n",
        "t=sum(a['作業分數'])\n",
        "d=t/len(a['作業分數'])\n",
        "\n",
        "print(a)\n",
        "print(d)"
      ]
    }
  ]
}