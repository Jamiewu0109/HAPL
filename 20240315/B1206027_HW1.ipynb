{
  "nbformat": 4,
  "nbformat_minor": 0,
  "metadata": {
    "colab": {
      "provenance": []
    },
    "kernelspec": {
      "name": "python3",
      "display_name": "Python 3"
    },
    "language_info": {
      "name": "python"
    }
  },
  "cells": [
    {
      "cell_type": "code",
      "execution_count": null,
      "metadata": {
        "colab": {
          "base_uri": "https://localhost:8080/"
        },
        "id": "cOP7pxEz59d2",
        "outputId": "2b84d993-edb1-4dd7-d959-fd6351da4a85"
      },
      "outputs": [
        {
          "output_type": "stream",
          "name": "stdout",
          "text": [
            "I'm a student\n"
          ]
        }
      ],
      "source": [
        "print(\"I'm a student\")"
      ]
    },
    {
      "cell_type": "code",
      "source": [
        "print(\"已知有A(x1,y1)與B(x2,y2)兩座標點\")\n",
        "x1=input(\"輸入x1：\")\n",
        "y1=input(\"輸入y1：\")\n",
        "x2=input(\"輸入x2：\")\n",
        "y2=input(\"輸入y2：\")\n",
        "a=float(x1)-float(x2)\n",
        "b=float(y1)-float(y2)\n",
        "r=float((a**2+b**2)**0.5)\n",
        "\n",
        "print(\"AB間距離為：\",r)"
      ],
      "metadata": {
        "id": "7NIrNrBH6McB",
        "colab": {
          "base_uri": "https://localhost:8080/"
        },
        "outputId": "0b9f1536-c3be-4a9a-e582-fb950a06a196"
      },
      "execution_count": 20,
      "outputs": [
        {
          "output_type": "stream",
          "name": "stdout",
          "text": [
            "已知有A(x1,y1)與B(x2,y2)兩座標點\n",
            "輸入x1：4\n",
            "輸入y1：6\n",
            "輸入x2：9\n",
            "輸入y2：18\n",
            "AB間距離為： 13.0\n"
          ]
        }
      ]
    },
    {
      "cell_type": "code",
      "source": [
        "a=float(input(\"輸入身高(cm)：\"))/100\n",
        "b=float(input(\"輸入體重(kg)：\"))\n",
        "b/=a*a\n",
        "print(\"BMI值：\",b)"
      ],
      "metadata": {
        "colab": {
          "base_uri": "https://localhost:8080/"
        },
        "id": "FnBVQj7eex1k",
        "outputId": "817a8dab-d883-4112-d48b-1349cca5bc70"
      },
      "execution_count": 9,
      "outputs": [
        {
          "output_type": "stream",
          "name": "stdout",
          "text": [
            "輸入身高(cm)：160\n",
            "輸入體重(kg)：53\n",
            "BMI值： 20.703124999999996\n"
          ]
        }
      ]
    }
  ]
}